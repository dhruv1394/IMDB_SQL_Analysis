{
 "cells": [
  {
   "cell_type": "markdown",
   "metadata": {},
   "source": [
    "# IMDB Dataset Analysis"
   ]
  },
  {
   "cell_type": "markdown",
   "metadata": {},
   "source": [
    "The IMDB Dataset consists of Movie Information from IMDB.<br>\n",
    "\n",
    "Number of Movies: 3475<br>\n",
    "Total Number of People associated with the Movies in the Database : 38284<br>\n",
    "Timespan of Movies: 1931-2018<br>\n",
    "\n",
    "Attribute Information:\n",
    "\n",
    "1. MID :- Movie ID ie a Unique Identification for each movie in our Dataset.\n",
    "2. PID :- Person ID ie a Unique Identification for each Person associated with a Movie. This Person could be an    Actor, Director or Producer for the Movie.\n",
    "3. GID :- Genre ID : This is, again a unique identification for each Movie Genre. Note that a Single Movie in the Database can have Multiple Genres associated with it. Eg: Comedy,Drama,Action,Horror etc. \n",
    "4. Year :- Year denotes the Year in which the Movie was Released.\n",
    "5. Title :- Title denotes the Name of the Movie.\n",
    "6. Rating :- Rating indicates a Score between 1 to 10. A Higher Rating denotes the extent to which the Movie has been liked by the Audience.\n",
    "7. Num_Votes :- This basically denotes the Number of Votes casted on the IMDB Platform that have contributed to the Movie Rating.\n",
    "\n",
    "\n",
    "#### Objective:\n",
    "Given the Movies Information shared with us across Multiple Tables in the Normalized Form, find Answers to Relevant Questions that could be required to be obtained in the Real World.\n",
    "\n"
   ]
  },
  {
   "cell_type": "markdown",
   "metadata": {},
   "source": [
    "# Loading the Data"
   ]
  },
  {
   "cell_type": "markdown",
   "metadata": {},
   "source": [
    "Firstly we will import the Required Packages that will help us in solving the problems at Hand as well as the Database in consideration using sqlite3. This is carried out as follows :-"
   ]
  },
  {
   "cell_type": "code",
   "execution_count": 1,
   "metadata": {},
   "outputs": [],
   "source": [
    "import sqlite3\n",
    "import pandas as pd\n",
    "\n",
    "# using the SQLite Table to read data.\n",
    "con = sqlite3.connect('Db-IMDB.db') "
   ]
  },
  {
   "cell_type": "markdown",
   "metadata": {},
   "source": [
    "# Solving Questions Using MySQL :- "
   ]
  },
  {
   "cell_type": "markdown",
   "metadata": {},
   "source": [
    "Firstly we realise that our Data is not in a Perfect Form to carry out all the analysis (Eg:- Year is not in a Proper Format :- We have both years 'I 2018' as well as '2018',excesses whitespaces at the beginning & at the end etc). Therefore, in order to make our Nested Sub-Queries as well as our Joins Efficient, instead of using the SQL TRIM()\n",
    "function with the joins repeatedly, we will update all the Relevant Tables in our IMDB Dataset as follows :-"
   ]
  },
  {
   "cell_type": "code",
   "execution_count": 2,
   "metadata": {},
   "outputs": [],
   "source": [
    "#Updating the MOVIE Table : Taking the Required Substring \n",
    "movie_update = \"\"\"UPDATE MOVIE SET YEAR = TRIM(SUBSTR(YEAR,-4,4)),MID = TRIM(MID)\"\"\"\n",
    "mov = con.cursor()\n",
    "mov.execute(movie_update)\n",
    "\n",
    "#Updating the M_CAST Table\n",
    "cast_update = \"\"\"UPDATE M_CAST SET MID=TRIM(MID),PID=TRIM(PID)\"\"\"\n",
    "cst = con.cursor()\n",
    "cst.execute(cast_update)\n",
    "\n",
    "#Updating the PERSON Table\n",
    "person_update = \"\"\"UPDATE PERSON SET PID=TRIM(PID),NAME=TRIM(NAME),GENDER=TRIM(GENDER)\"\"\"\n",
    "person = con.cursor()\n",
    "person.execute(person_update)\n",
    "\n",
    "#Updating the GENRE Table\n",
    "genre_update = \"\"\"UPDATE GENRE SET GID=TRIM(GID),NAME=TRIM(NAME)\"\"\"\n",
    "genre = con.cursor()\n",
    "genre.execute(genre_update)\n",
    "\n",
    "#Updating the M_PRODUCER Table\n",
    "producer_update = \"\"\"UPDATE M_PRODUCER SET MID=TRIM(MID),PID=TRIM(PID)\"\"\"\n",
    "genre = con.cursor()\n",
    "genre.execute(genre_update)\n",
    "\n",
    "#Updating the M_DIRECTOR Table\n",
    "director_update = \"\"\"UPDATE M_DIRECTOR SET MID=TRIM(MID),PID=TRIM(PID)\"\"\"\n",
    "genre = con.cursor()\n",
    "genre.execute(genre_update)\n",
    "\n",
    "#Updating the M_GENRE Table\n",
    "mov_genre_update = \"\"\"UPDATE M_GENRE SET MID=TRIM(MID),GID=TRIM(GID)\"\"\"\n",
    "genre = con.cursor()\n",
    "genre.execute(genre_update)\n",
    "\n",
    "con.commit()"
   ]
  },
  {
   "cell_type": "markdown",
   "metadata": {},
   "source": [
    "# Question 1 :-"
   ]
  },
  {
   "cell_type": "markdown",
   "metadata": {},
   "source": [
    "<b> <font color=\"black\"> List all the directors who directed a 'Comedy' movie in a leap year. (You need to check that the genre is 'Comedy’ and year is a leap year) Your query should return director name, the movie name, and the year. :- </font> </b>"
   ]
  },
  {
   "cell_type": "code",
   "execution_count": 3,
   "metadata": {},
   "outputs": [
    {
     "data": {
      "text/html": [
       "<div>\n",
       "<style scoped>\n",
       "    .dataframe tbody tr th:only-of-type {\n",
       "        vertical-align: middle;\n",
       "    }\n",
       "\n",
       "    .dataframe tbody tr th {\n",
       "        vertical-align: top;\n",
       "    }\n",
       "\n",
       "    .dataframe thead th {\n",
       "        text-align: right;\n",
       "    }\n",
       "</style>\n",
       "<table border=\"1\" class=\"dataframe\">\n",
       "  <thead>\n",
       "    <tr style=\"text-align: right;\">\n",
       "      <th></th>\n",
       "      <th>DIRECTOR_NAME</th>\n",
       "      <th>MOVIE_NAME</th>\n",
       "      <th>RELEASE_YEAR</th>\n",
       "    </tr>\n",
       "  </thead>\n",
       "  <tbody>\n",
       "    <tr>\n",
       "      <th>0</th>\n",
       "      <td>Milap Zaveri</td>\n",
       "      <td>Mastizaade</td>\n",
       "      <td>2016</td>\n",
       "    </tr>\n",
       "    <tr>\n",
       "      <th>1</th>\n",
       "      <td>Shakun Batra</td>\n",
       "      <td>Kapoor &amp; Sons</td>\n",
       "      <td>2016</td>\n",
       "    </tr>\n",
       "    <tr>\n",
       "      <th>2</th>\n",
       "      <td>Rohit Dhawan</td>\n",
       "      <td>Dishoom</td>\n",
       "      <td>2016</td>\n",
       "    </tr>\n",
       "    <tr>\n",
       "      <th>3</th>\n",
       "      <td>Nitya Mehra</td>\n",
       "      <td>Baar Baar Dekho</td>\n",
       "      <td>2016</td>\n",
       "    </tr>\n",
       "    <tr>\n",
       "      <th>4</th>\n",
       "      <td>Aditya Chopra</td>\n",
       "      <td>Befikre</td>\n",
       "      <td>2016</td>\n",
       "    </tr>\n",
       "    <tr>\n",
       "      <th>5</th>\n",
       "      <td>Shubhashish Bhutiani</td>\n",
       "      <td>Hotel Salvation</td>\n",
       "      <td>2016</td>\n",
       "    </tr>\n",
       "    <tr>\n",
       "      <th>6</th>\n",
       "      <td>Mudassar Aziz</td>\n",
       "      <td>Happy Bhag Jayegi</td>\n",
       "      <td>2016</td>\n",
       "    </tr>\n",
       "    <tr>\n",
       "      <th>7</th>\n",
       "      <td>Remo D'Souza</td>\n",
       "      <td>A Flying Jatt</td>\n",
       "      <td>2016</td>\n",
       "    </tr>\n",
       "    <tr>\n",
       "      <th>8</th>\n",
       "      <td>Sohail Khan</td>\n",
       "      <td>Freaky Ali</td>\n",
       "      <td>2016</td>\n",
       "    </tr>\n",
       "    <tr>\n",
       "      <th>9</th>\n",
       "      <td>Umesh Ghadge</td>\n",
       "      <td>Kyaa Kool Hain Hum 3</td>\n",
       "      <td>2016</td>\n",
       "    </tr>\n",
       "  </tbody>\n",
       "</table>\n",
       "</div>"
      ],
      "text/plain": [
       "          DIRECTOR_NAME            MOVIE_NAME RELEASE_YEAR\n",
       "0          Milap Zaveri            Mastizaade         2016\n",
       "1          Shakun Batra         Kapoor & Sons         2016\n",
       "2          Rohit Dhawan               Dishoom         2016\n",
       "3           Nitya Mehra       Baar Baar Dekho         2016\n",
       "4         Aditya Chopra               Befikre         2016\n",
       "5  Shubhashish Bhutiani       Hotel Salvation         2016\n",
       "6         Mudassar Aziz     Happy Bhag Jayegi         2016\n",
       "7          Remo D'Souza         A Flying Jatt         2016\n",
       "8           Sohail Khan            Freaky Ali         2016\n",
       "9          Umesh Ghadge  Kyaa Kool Hain Hum 3         2016"
      ]
     },
     "execution_count": 3,
     "metadata": {},
     "output_type": "execute_result"
    }
   ],
   "source": [
    "pd.read_sql_query(\"\"\"SELECT DISTINCT NAME AS DIRECTOR_NAME,TITLE AS MOVIE_NAME,YEAR AS RELEASE_YEAR \n",
    "                    FROM \n",
    "                    (SELECT M.MID,TITLE,YEAR,D.PID,P.NAME,GENDER,G.GID FROM MOVIE AS M \n",
    "                    INNER JOIN M_DIRECTOR AS D ON M.MID=D.MID                    \n",
    "                    INNER JOIN PERSON AS P ON D.PID = P.PID \n",
    "                    INNER JOIN M_GENRE AS G ON M.MID = G.MID\n",
    "                    INNER JOIN GENRE AS MG ON MG.GID = G.GID\n",
    "                    WHERE MG.NAME LIKE '%COMEDY%' AND YEAR%4=0 )\n",
    "                    ORDER BY RELEASE_YEAR DESC\n",
    "                    \"\"\", con).head(10)"
   ]
  },
  {
   "cell_type": "markdown",
   "metadata": {},
   "source": [
    "So, as required our Query Returns the Director Name, Movie Name as well as the Year of Release. We obtain a total of 380 Rows in our Resultant obtained above. A Sample of 10 Records is shown."
   ]
  },
  {
   "cell_type": "markdown",
   "metadata": {},
   "source": [
    "<b> <font color=\"black\"> Approach :- </font> </b>"
   ]
  },
  {
   "cell_type": "markdown",
   "metadata": {},
   "source": [
    "1. First I used MID to obtain the PID (for the Directors associated with each MID) as well as the GID for each movie.\n",
    "2. The M_Genre Table has the NAME field which corresponds to the Genre Name as is asked for, and is filtered as having 'Comedy' as one of the Genres.\n",
    "3. To filter the Leap Year, the year must be divisible by 4. Also a year is Leap Year if it is divisible by 4 and not divisible by 100 but is divisible by 400. Here, 1931 is the oldest Release_Year for a Movie in a Database and hence we need not consider about Year<1931, and 2000%400=0. So 2000 also is a Leap Year."
   ]
  },
  {
   "cell_type": "markdown",
   "metadata": {},
   "source": [
    "# Question 2 :-"
   ]
  },
  {
   "cell_type": "markdown",
   "metadata": {},
   "source": [
    "<b> <font color=\"black\">List the names of all the actors who played in the movie 'Anand' (1971) :- </font> </b>"
   ]
  },
  {
   "cell_type": "code",
   "execution_count": 4,
   "metadata": {},
   "outputs": [
    {
     "data": {
      "text/html": [
       "<div>\n",
       "<style scoped>\n",
       "    .dataframe tbody tr th:only-of-type {\n",
       "        vertical-align: middle;\n",
       "    }\n",
       "\n",
       "    .dataframe tbody tr th {\n",
       "        vertical-align: top;\n",
       "    }\n",
       "\n",
       "    .dataframe thead th {\n",
       "        text-align: right;\n",
       "    }\n",
       "</style>\n",
       "<table border=\"1\" class=\"dataframe\">\n",
       "  <thead>\n",
       "    <tr style=\"text-align: right;\">\n",
       "      <th></th>\n",
       "      <th>ACTOR_NAME</th>\n",
       "    </tr>\n",
       "  </thead>\n",
       "  <tbody>\n",
       "    <tr>\n",
       "      <th>0</th>\n",
       "      <td>Amitabh Bachchan</td>\n",
       "    </tr>\n",
       "    <tr>\n",
       "      <th>1</th>\n",
       "      <td>Rajesh Khanna</td>\n",
       "    </tr>\n",
       "    <tr>\n",
       "      <th>2</th>\n",
       "      <td>Brahm Bhardwaj</td>\n",
       "    </tr>\n",
       "    <tr>\n",
       "      <th>3</th>\n",
       "      <td>Ramesh Deo</td>\n",
       "    </tr>\n",
       "    <tr>\n",
       "      <th>4</th>\n",
       "      <td>Seema Deo</td>\n",
       "    </tr>\n",
       "    <tr>\n",
       "      <th>5</th>\n",
       "      <td>Dev Kishan</td>\n",
       "    </tr>\n",
       "    <tr>\n",
       "      <th>6</th>\n",
       "      <td>Durga Khote</td>\n",
       "    </tr>\n",
       "    <tr>\n",
       "      <th>7</th>\n",
       "      <td>Lalita Kumari</td>\n",
       "    </tr>\n",
       "    <tr>\n",
       "      <th>8</th>\n",
       "      <td>Lalita Pawar</td>\n",
       "    </tr>\n",
       "    <tr>\n",
       "      <th>9</th>\n",
       "      <td>Atam Prakash</td>\n",
       "    </tr>\n",
       "    <tr>\n",
       "      <th>10</th>\n",
       "      <td>Sumita Sanyal</td>\n",
       "    </tr>\n",
       "    <tr>\n",
       "      <th>11</th>\n",
       "      <td>Asit Kumar Sen</td>\n",
       "    </tr>\n",
       "    <tr>\n",
       "      <th>12</th>\n",
       "      <td>Dara Singh</td>\n",
       "    </tr>\n",
       "    <tr>\n",
       "      <th>13</th>\n",
       "      <td>Johnny Walker</td>\n",
       "    </tr>\n",
       "    <tr>\n",
       "      <th>14</th>\n",
       "      <td>Moolchand</td>\n",
       "    </tr>\n",
       "    <tr>\n",
       "      <th>15</th>\n",
       "      <td>Gurnam Singh</td>\n",
       "    </tr>\n",
       "    <tr>\n",
       "      <th>16</th>\n",
       "      <td>Savita</td>\n",
       "    </tr>\n",
       "  </tbody>\n",
       "</table>\n",
       "</div>"
      ],
      "text/plain": [
       "          ACTOR_NAME\n",
       "0   Amitabh Bachchan\n",
       "1      Rajesh Khanna\n",
       "2     Brahm Bhardwaj\n",
       "3         Ramesh Deo\n",
       "4          Seema Deo\n",
       "5         Dev Kishan\n",
       "6        Durga Khote\n",
       "7      Lalita Kumari\n",
       "8       Lalita Pawar\n",
       "9       Atam Prakash\n",
       "10     Sumita Sanyal\n",
       "11    Asit Kumar Sen\n",
       "12        Dara Singh\n",
       "13     Johnny Walker\n",
       "14         Moolchand\n",
       "15      Gurnam Singh\n",
       "16            Savita"
      ]
     },
     "execution_count": 4,
     "metadata": {},
     "output_type": "execute_result"
    }
   ],
   "source": [
    "pd.read_sql_query(\"\"\"SELECT NAME AS ACTOR_NAME FROM\n",
    "                    (SELECT A.MID,TITLE,YEAR,PID FROM (SELECT MID,TITLE,YEAR FROM MOVIE\n",
    "                     WHERE TITLE LIKE '%ANAND' AND YEAR='1971') AS A\n",
    "                     INNER JOIN M_CAST AS M ON A.MID=M.MID) AS B\n",
    "                     INNER JOIN PERSON AS P ON B.PID=P.PID\"\"\",con)"
   ]
  },
  {
   "cell_type": "markdown",
   "metadata": {},
   "source": [
    "Thus, as seen above we obtain all 17 Actors Credited with Working in 'Anand'(1971)."
   ]
  },
  {
   "cell_type": "markdown",
   "metadata": {},
   "source": [
    "<b> <font color=\"black\"> Approach :- </font> </b>"
   ]
  },
  {
   "cell_type": "markdown",
   "metadata": {},
   "source": [
    "1. Firstly we will obtain the Records in consideration for the Movie 'Anand' so as to obtain the Movie ID\n",
    "   for 'Anand'. (T1)\n",
    "2. Now to obtain the Cast for the Movie Anand, we can join the Table T1 with the\n",
    "   M_Cast Table basis the MID Column so as to obtain another Intermediate Table. (T2)\n",
    "3. Now we have all the PIDs for Actors who acted in 'Anand'. However in order to obtain the Actor Names\n",
    "   we join this Table with PERSON Table basis the PID Column, and obtain all the Actor names."
   ]
  },
  {
   "cell_type": "markdown",
   "metadata": {},
   "source": [
    "# Question 3 :-"
   ]
  },
  {
   "cell_type": "markdown",
   "metadata": {},
   "source": [
    "<b> <font color=\"black\"> List all the actors who acted in a film before 1970 and in a film after 1990 (That is: < 1970 and > 1990) :- </font> </b>"
   ]
  },
  {
   "cell_type": "code",
   "execution_count": 5,
   "metadata": {},
   "outputs": [
    {
     "data": {
      "text/html": [
       "<div>\n",
       "<style scoped>\n",
       "    .dataframe tbody tr th:only-of-type {\n",
       "        vertical-align: middle;\n",
       "    }\n",
       "\n",
       "    .dataframe tbody tr th {\n",
       "        vertical-align: top;\n",
       "    }\n",
       "\n",
       "    .dataframe thead th {\n",
       "        text-align: right;\n",
       "    }\n",
       "</style>\n",
       "<table border=\"1\" class=\"dataframe\">\n",
       "  <thead>\n",
       "    <tr style=\"text-align: right;\">\n",
       "      <th></th>\n",
       "      <th>ACTOR_NAME</th>\n",
       "    </tr>\n",
       "  </thead>\n",
       "  <tbody>\n",
       "    <tr>\n",
       "      <th>0</th>\n",
       "      <td>Rishi Kapoor</td>\n",
       "    </tr>\n",
       "    <tr>\n",
       "      <th>1</th>\n",
       "      <td>Amitabh Bachchan</td>\n",
       "    </tr>\n",
       "    <tr>\n",
       "      <th>2</th>\n",
       "      <td>Asrani</td>\n",
       "    </tr>\n",
       "    <tr>\n",
       "      <th>3</th>\n",
       "      <td>Zohra Sehgal</td>\n",
       "    </tr>\n",
       "    <tr>\n",
       "      <th>4</th>\n",
       "      <td>Parikshat Sahni</td>\n",
       "    </tr>\n",
       "    <tr>\n",
       "      <th>5</th>\n",
       "      <td>Rakesh Sharma</td>\n",
       "    </tr>\n",
       "    <tr>\n",
       "      <th>6</th>\n",
       "      <td>Sanjay Dutt</td>\n",
       "    </tr>\n",
       "    <tr>\n",
       "      <th>7</th>\n",
       "      <td>Ric Young</td>\n",
       "    </tr>\n",
       "    <tr>\n",
       "      <th>8</th>\n",
       "      <td>Yusuf</td>\n",
       "    </tr>\n",
       "    <tr>\n",
       "      <th>9</th>\n",
       "      <td>Suhasini Mulay</td>\n",
       "    </tr>\n",
       "  </tbody>\n",
       "</table>\n",
       "</div>"
      ],
      "text/plain": [
       "         ACTOR_NAME\n",
       "0      Rishi Kapoor\n",
       "1  Amitabh Bachchan\n",
       "2            Asrani\n",
       "3      Zohra Sehgal\n",
       "4   Parikshat Sahni\n",
       "5     Rakesh Sharma\n",
       "6       Sanjay Dutt\n",
       "7         Ric Young\n",
       "8             Yusuf\n",
       "9    Suhasini Mulay"
      ]
     },
     "execution_count": 5,
     "metadata": {},
     "output_type": "execute_result"
    }
   ],
   "source": [
    "pd.read_sql_query(\"\"\"SELECT DISTINCT NAME AS ACTOR_NAME\n",
    "                    FROM PERSON AS P \n",
    "                    WHERE P.PID IN \n",
    "                    (SELECT PID FROM MOVIE AS M\n",
    "                    INNER JOIN M_CAST AS MC ON M.MID = MC.MID\n",
    "                    WHERE YEAR<1970)\n",
    "                    AND P.PID IN\n",
    "                    (SELECT PID FROM MOVIE AS M INNER JOIN M_CAST AS MC \n",
    "                    ON M.MID=MC.MID WHERE YEAR>1990)\n",
    "                    \"\"\",con).head(10)"
   ]
  },
  {
   "cell_type": "markdown",
   "metadata": {},
   "source": [
    "As seen above, We obtain a total of 298 Actors who have acted in Movies which were not released in the Timeline specified."
   ]
  },
  {
   "cell_type": "markdown",
   "metadata": {},
   "source": [
    "<b> <font color=\"black\"> Approach :- </font> </b>"
   ]
  },
  {
   "cell_type": "markdown",
   "metadata": {},
   "source": [
    "1. PIDs are taken for all the Movies that were released before 1970 as well as after 1990. In order to do that, we join Movie Table as well as M_Cast Table.\n",
    "2. We choose those Actor Names from Person Table whose PID is falling in both of the cases above."
   ]
  },
  {
   "cell_type": "markdown",
   "metadata": {},
   "source": [
    "# Question 4 :-"
   ]
  },
  {
   "cell_type": "markdown",
   "metadata": {},
   "source": [
    "<b> <font color=\"black\"> List all directors who directed 10 movies or more, in descending order of the number of movies they directed. Return the directors' names and the number of movies each of them directed :- </font> </b>"
   ]
  },
  {
   "cell_type": "code",
   "execution_count": 6,
   "metadata": {},
   "outputs": [
    {
     "data": {
      "text/html": [
       "<div>\n",
       "<style scoped>\n",
       "    .dataframe tbody tr th:only-of-type {\n",
       "        vertical-align: middle;\n",
       "    }\n",
       "\n",
       "    .dataframe tbody tr th {\n",
       "        vertical-align: top;\n",
       "    }\n",
       "\n",
       "    .dataframe thead th {\n",
       "        text-align: right;\n",
       "    }\n",
       "</style>\n",
       "<table border=\"1\" class=\"dataframe\">\n",
       "  <thead>\n",
       "    <tr style=\"text-align: right;\">\n",
       "      <th></th>\n",
       "      <th>DIRECTOR_NAME</th>\n",
       "      <th>MOVIE_COUNT</th>\n",
       "    </tr>\n",
       "  </thead>\n",
       "  <tbody>\n",
       "    <tr>\n",
       "      <th>0</th>\n",
       "      <td>David Dhawan</td>\n",
       "      <td>78</td>\n",
       "    </tr>\n",
       "    <tr>\n",
       "      <th>1</th>\n",
       "      <td>Mahesh Bhatt</td>\n",
       "      <td>70</td>\n",
       "    </tr>\n",
       "    <tr>\n",
       "      <th>2</th>\n",
       "      <td>Ram Gopal Varma</td>\n",
       "      <td>60</td>\n",
       "    </tr>\n",
       "    <tr>\n",
       "      <th>3</th>\n",
       "      <td>Vikram Bhatt</td>\n",
       "      <td>58</td>\n",
       "    </tr>\n",
       "    <tr>\n",
       "      <th>4</th>\n",
       "      <td>Hrishikesh Mukherjee</td>\n",
       "      <td>54</td>\n",
       "    </tr>\n",
       "    <tr>\n",
       "      <th>5</th>\n",
       "      <td>Yash Chopra</td>\n",
       "      <td>42</td>\n",
       "    </tr>\n",
       "    <tr>\n",
       "      <th>6</th>\n",
       "      <td>Basu Chatterjee</td>\n",
       "      <td>38</td>\n",
       "    </tr>\n",
       "    <tr>\n",
       "      <th>7</th>\n",
       "      <td>Shakti Samanta</td>\n",
       "      <td>38</td>\n",
       "    </tr>\n",
       "    <tr>\n",
       "      <th>8</th>\n",
       "      <td>Subhash Ghai</td>\n",
       "      <td>36</td>\n",
       "    </tr>\n",
       "    <tr>\n",
       "      <th>9</th>\n",
       "      <td>Shyam Benegal</td>\n",
       "      <td>34</td>\n",
       "    </tr>\n",
       "  </tbody>\n",
       "</table>\n",
       "</div>"
      ],
      "text/plain": [
       "          DIRECTOR_NAME  MOVIE_COUNT\n",
       "0          David Dhawan           78\n",
       "1          Mahesh Bhatt           70\n",
       "2       Ram Gopal Varma           60\n",
       "3          Vikram Bhatt           58\n",
       "4  Hrishikesh Mukherjee           54\n",
       "5           Yash Chopra           42\n",
       "6       Basu Chatterjee           38\n",
       "7        Shakti Samanta           38\n",
       "8          Subhash Ghai           36\n",
       "9         Shyam Benegal           34"
      ]
     },
     "execution_count": 6,
     "metadata": {},
     "output_type": "execute_result"
    }
   ],
   "source": [
    "pd.read_sql_query(\"\"\"SELECT DISTINCT NAME AS DIRECTOR_NAME,COUNT(MID) AS MOVIE_COUNT FROM \n",
    "                    (SELECT P.PID,NAME,MID,TITLE FROM \n",
    "                    (SELECT M.MID AS MID,TITLE,PID FROM MOVIE AS M \n",
    "                    INNER JOIN M_DIRECTOR AS D\n",
    "                    ON M.MID=D.MID) AS A\n",
    "                    INNER JOIN PERSON AS P ON A.PID=P.PID) AS B\n",
    "                    GROUP BY PID \n",
    "                    HAVING MOVIE_COUNT >=10\n",
    "                    ORDER BY MOVIE_COUNT DESC\n",
    "                    \"\"\", con).head(10)"
   ]
  },
  {
   "cell_type": "markdown",
   "metadata": {},
   "source": [
    "Thus we basically obtain a Total of 156 Directors in Total who have directed a Minimum of 10 Movies. A sample of the same are shown above."
   ]
  },
  {
   "cell_type": "markdown",
   "metadata": {},
   "source": [
    "<b> <font color=\"black\"> Approach :- </font> </b>"
   ]
  },
  {
   "cell_type": "markdown",
   "metadata": {},
   "source": [
    "1. Movie Director's PID Information is obtained by Joining Movie, M_Director as well as Person Tables.\n",
    "2. Grouping is carried out basis the PID and Count of Distinct Movie IDs per Group are computed. Then, filtering is carried out basis the MOVIE_COUNT (Minimum Value being equal to 10)."
   ]
  },
  {
   "cell_type": "markdown",
   "metadata": {},
   "source": [
    "# Question 5 :-"
   ]
  },
  {
   "cell_type": "markdown",
   "metadata": {},
   "source": [
    "<b> <font color=\"black\"> a. For each year, count the number of movies in that year that had only Female Actors.:- </font> </b>"
   ]
  },
  {
   "cell_type": "code",
   "execution_count": 7,
   "metadata": {},
   "outputs": [
    {
     "data": {
      "text/html": [
       "<div>\n",
       "<style scoped>\n",
       "    .dataframe tbody tr th:only-of-type {\n",
       "        vertical-align: middle;\n",
       "    }\n",
       "\n",
       "    .dataframe tbody tr th {\n",
       "        vertical-align: top;\n",
       "    }\n",
       "\n",
       "    .dataframe thead th {\n",
       "        text-align: right;\n",
       "    }\n",
       "</style>\n",
       "<table border=\"1\" class=\"dataframe\">\n",
       "  <thead>\n",
       "    <tr style=\"text-align: right;\">\n",
       "      <th></th>\n",
       "      <th>RELEASE_YEAR</th>\n",
       "      <th>ALL_FEMALE_MOV_COUNT</th>\n",
       "    </tr>\n",
       "  </thead>\n",
       "  <tbody>\n",
       "    <tr>\n",
       "      <th>0</th>\n",
       "      <td>1939</td>\n",
       "      <td>1</td>\n",
       "    </tr>\n",
       "    <tr>\n",
       "      <th>1</th>\n",
       "      <td>1999</td>\n",
       "      <td>1</td>\n",
       "    </tr>\n",
       "    <tr>\n",
       "      <th>2</th>\n",
       "      <td>2000</td>\n",
       "      <td>1</td>\n",
       "    </tr>\n",
       "    <tr>\n",
       "      <th>3</th>\n",
       "      <td>2009</td>\n",
       "      <td>1</td>\n",
       "    </tr>\n",
       "    <tr>\n",
       "      <th>4</th>\n",
       "      <td>2012</td>\n",
       "      <td>1</td>\n",
       "    </tr>\n",
       "    <tr>\n",
       "      <th>5</th>\n",
       "      <td>2018</td>\n",
       "      <td>2</td>\n",
       "    </tr>\n",
       "  </tbody>\n",
       "</table>\n",
       "</div>"
      ],
      "text/plain": [
       "  RELEASE_YEAR  ALL_FEMALE_MOV_COUNT\n",
       "0         1939                     1\n",
       "1         1999                     1\n",
       "2         2000                     1\n",
       "3         2009                     1\n",
       "4         2012                     1\n",
       "5         2018                     2"
      ]
     },
     "execution_count": 7,
     "metadata": {},
     "output_type": "execute_result"
    }
   ],
   "source": [
    "pd.read_sql_query(\"\"\"SELECT DISTINCT YEAR AS RELEASE_YEAR,\n",
    "                    COUNT(DISTINCT MID) AS ALL_FEMALE_MOV_COUNT FROM MOVIE \n",
    "                    WHERE MID NOT IN \n",
    "                    (SELECT DISTINCT M.MID FROM MOVIE AS M WHERE M.MID IN \n",
    "                    (SELECT DISTINCT C.MID FROM M_CAST AS C WHERE C.PID IN \n",
    "                    (SELECT P.PID FROM PERSON AS P WHERE GENDER NOT LIKE '%FEMALE%')))\n",
    "                    GROUP BY YEAR\n",
    "                    ORDER BY YEAR\n",
    "                    \"\"\", con)"
   ]
  },
  {
   "cell_type": "markdown",
   "metadata": {},
   "source": [
    "<b> <font color=\"black\"> Approach :- </font> </b>"
   ]
  },
  {
   "cell_type": "markdown",
   "metadata": {},
   "source": [
    "1. Those Movies are Selected where the Corresponding Cast does not have any Females ie. the Subquery Results in MIDs with At least 1 Male Cast. These MIDs are then Excluded. \n",
    "2. Note that MIDs where the Cast Gender is 'None' are also included and considered as an 'All Female Movie'."
   ]
  },
  {
   "cell_type": "markdown",
   "metadata": {},
   "source": [
    "<b> <font color=\"black\"> b. Now include a small change: report for each year the percentage of movies in that year with only Female Actors, and the total number of movies made that year. For example, one answer will be: 1990 31.81 13522 meaning that in 1990 there were 13,522 movies, and 31.81% had only female actors. You do not need to round your answer. </font> </b>"
   ]
  },
  {
   "cell_type": "code",
   "execution_count": 8,
   "metadata": {},
   "outputs": [
    {
     "data": {
      "text/html": [
       "<div>\n",
       "<style scoped>\n",
       "    .dataframe tbody tr th:only-of-type {\n",
       "        vertical-align: middle;\n",
       "    }\n",
       "\n",
       "    .dataframe tbody tr th {\n",
       "        vertical-align: top;\n",
       "    }\n",
       "\n",
       "    .dataframe thead th {\n",
       "        text-align: right;\n",
       "    }\n",
       "</style>\n",
       "<table border=\"1\" class=\"dataframe\">\n",
       "  <thead>\n",
       "    <tr style=\"text-align: right;\">\n",
       "      <th></th>\n",
       "      <th>YEAR</th>\n",
       "      <th>ALL_FEMALE_MOVIE_PERCENTAGE</th>\n",
       "      <th>TOTAL_MOVIES</th>\n",
       "    </tr>\n",
       "  </thead>\n",
       "  <tbody>\n",
       "    <tr>\n",
       "      <th>0</th>\n",
       "      <td>1939</td>\n",
       "      <td>50.000000</td>\n",
       "      <td>2</td>\n",
       "    </tr>\n",
       "    <tr>\n",
       "      <th>1</th>\n",
       "      <td>1999</td>\n",
       "      <td>1.515152</td>\n",
       "      <td>66</td>\n",
       "    </tr>\n",
       "    <tr>\n",
       "      <th>2</th>\n",
       "      <td>2000</td>\n",
       "      <td>1.562500</td>\n",
       "      <td>64</td>\n",
       "    </tr>\n",
       "    <tr>\n",
       "      <th>3</th>\n",
       "      <td>2009</td>\n",
       "      <td>0.909091</td>\n",
       "      <td>110</td>\n",
       "    </tr>\n",
       "    <tr>\n",
       "      <th>4</th>\n",
       "      <td>2012</td>\n",
       "      <td>0.900901</td>\n",
       "      <td>111</td>\n",
       "    </tr>\n",
       "    <tr>\n",
       "      <th>5</th>\n",
       "      <td>2018</td>\n",
       "      <td>1.923077</td>\n",
       "      <td>104</td>\n",
       "    </tr>\n",
       "  </tbody>\n",
       "</table>\n",
       "</div>"
      ],
      "text/plain": [
       "   YEAR  ALL_FEMALE_MOVIE_PERCENTAGE  TOTAL_MOVIES\n",
       "0  1939                    50.000000             2\n",
       "1  1999                     1.515152            66\n",
       "2  2000                     1.562500            64\n",
       "3  2009                     0.909091           110\n",
       "4  2012                     0.900901           111\n",
       "5  2018                     1.923077           104"
      ]
     },
     "execution_count": 8,
     "metadata": {},
     "output_type": "execute_result"
    }
   ],
   "source": [
    "pd.read_sql_query(\"\"\"SELECT YEAR, (CAST(ALL_FEMALE_MOV_COUNT AS FLOAT)/CAST(TOTAL AS FLOAT) *100) \n",
    "                    AS ALL_FEMALE_MOVIE_PERCENTAGE, \n",
    "                    TOTAL AS TOTAL_MOVIES FROM\n",
    "                    (SELECT M.YEAR, ALL_FEMALE_MOV_COUNT, \n",
    "                    COUNT(M.MID) AS TOTAL FROM MOVIE AS M\n",
    "                    INNER JOIN\n",
    "                    (SELECT DISTINCT M.YEAR,\n",
    "                    COUNT(DISTINCT MID) AS ALL_FEMALE_MOV_COUNT FROM MOVIE AS M\n",
    "                    WHERE M.MID NOT IN \n",
    "                    (SELECT DISTINCT M.MID FROM MOVIE AS M WHERE M.MID IN \n",
    "                    (SELECT DISTINCT C.MID FROM M_CAST AS C WHERE C.PID IN (SELECT P.PID FROM \n",
    "                    PERSON AS P WHERE GENDER NOT LIKE '%FEMALE%')))\n",
    "                    GROUP BY YEAR) AS A\n",
    "                    ON M.YEAR = A.YEAR\n",
    "                    GROUP BY M.YEAR)\n",
    "                    \"\"\", con)"
   ]
  },
  {
   "cell_type": "markdown",
   "metadata": {},
   "source": [
    "<b> <font color=\"black\"> Approach :- </font> </b>"
   ]
  },
  {
   "cell_type": "markdown",
   "metadata": {},
   "source": [
    "1. Count of Total Movies is Computed for Each Year and then it is joined with the Result obtained in (a) basis the Year Column. \n",
    "2. Now the Percentage Ratio of 'All Female Movies' and 'Total Movies Released for the Year' is computed for each year in our Final Result."
   ]
  },
  {
   "cell_type": "markdown",
   "metadata": {},
   "source": [
    "# Question 6 :-"
   ]
  },
  {
   "cell_type": "markdown",
   "metadata": {},
   "source": [
    "<b> <font color=\"black\"> Find the film(s) with the largest cast. Return the movie title and the size of the cast. By \"cast size\" we mean the number of distinct actors that played in that movie: if an actor played multiple roles, or if it simply occurs multiple times in casts, we still count her/him only once :- </font> </b>"
   ]
  },
  {
   "cell_type": "code",
   "execution_count": 9,
   "metadata": {},
   "outputs": [
    {
     "data": {
      "text/html": [
       "<div>\n",
       "<style scoped>\n",
       "    .dataframe tbody tr th:only-of-type {\n",
       "        vertical-align: middle;\n",
       "    }\n",
       "\n",
       "    .dataframe tbody tr th {\n",
       "        vertical-align: top;\n",
       "    }\n",
       "\n",
       "    .dataframe thead th {\n",
       "        text-align: right;\n",
       "    }\n",
       "</style>\n",
       "<table border=\"1\" class=\"dataframe\">\n",
       "  <thead>\n",
       "    <tr style=\"text-align: right;\">\n",
       "      <th></th>\n",
       "      <th>MOVIE_TITLE</th>\n",
       "      <th>CAST_SIZE</th>\n",
       "    </tr>\n",
       "  </thead>\n",
       "  <tbody>\n",
       "    <tr>\n",
       "      <th>0</th>\n",
       "      <td>Ocean's Eight</td>\n",
       "      <td>238</td>\n",
       "    </tr>\n",
       "  </tbody>\n",
       "</table>\n",
       "</div>"
      ],
      "text/plain": [
       "     MOVIE_TITLE  CAST_SIZE\n",
       "0  Ocean's Eight        238"
      ]
     },
     "execution_count": 9,
     "metadata": {},
     "output_type": "execute_result"
    }
   ],
   "source": [
    "pd.read_sql_query(\"\"\"SELECT TITLE AS MOVIE_TITLE,COUNT(DISTINCT PID) AS CAST_SIZE \n",
    "                    FROM MOVIE AS M INNER JOIN M_CAST AS C\n",
    "                    ON M.MID=C.MID\n",
    "                    GROUP BY M.MID,TITLE,YEAR \n",
    "                    ORDER BY CAST_SIZE DESC LIMIT 1\"\"\", con)"
   ]
  },
  {
   "cell_type": "markdown",
   "metadata": {},
   "source": [
    "Therefore as we see above, the Movie \"Ocean's Eight\" has the Largest Cast Size with 238 Unique Actors Acting in the same."
   ]
  },
  {
   "cell_type": "markdown",
   "metadata": {},
   "source": [
    "<b> <font color=\"black\"> Approach :- </font> </b>"
   ]
  },
  {
   "cell_type": "markdown",
   "metadata": {},
   "source": [
    "1. This is simply obtained by Joining the Movie Table with M_CAST Table basis the MID Columns, and then finding the Count of Distinct PIDs for each Movie after Grouping.\n",
    "2. After this, Maximum of the Cast Size is Obtained."
   ]
  },
  {
   "cell_type": "markdown",
   "metadata": {},
   "source": [
    "# Question 7 :-"
   ]
  },
  {
   "cell_type": "markdown",
   "metadata": {},
   "source": [
    "<b> <font color=\"black\">  A decade is a sequence of 10 consecutive years. For example, say in your database you have movie information starting from 1965. Then the first decade is 1965, 1966, ..., 1974; the second one is 1967, 1968, ..., 1976 and so on. Find the decade D with the largest number of films and the total number of films in D. :- </font> </b>"
   ]
  },
  {
   "cell_type": "code",
   "execution_count": 10,
   "metadata": {},
   "outputs": [
    {
     "data": {
      "text/html": [
       "<div>\n",
       "<style scoped>\n",
       "    .dataframe tbody tr th:only-of-type {\n",
       "        vertical-align: middle;\n",
       "    }\n",
       "\n",
       "    .dataframe tbody tr th {\n",
       "        vertical-align: top;\n",
       "    }\n",
       "\n",
       "    .dataframe thead th {\n",
       "        text-align: right;\n",
       "    }\n",
       "</style>\n",
       "<table border=\"1\" class=\"dataframe\">\n",
       "  <thead>\n",
       "    <tr style=\"text-align: right;\">\n",
       "      <th></th>\n",
       "      <th>DECADE_START</th>\n",
       "      <th>DECADE_END</th>\n",
       "      <th>NO_OF_MOVIES</th>\n",
       "    </tr>\n",
       "  </thead>\n",
       "  <tbody>\n",
       "    <tr>\n",
       "      <th>0</th>\n",
       "      <td>2008</td>\n",
       "      <td>2017</td>\n",
       "      <td>1205</td>\n",
       "    </tr>\n",
       "  </tbody>\n",
       "</table>\n",
       "</div>"
      ],
      "text/plain": [
       "  DECADE_START  DECADE_END  NO_OF_MOVIES\n",
       "0         2008        2017          1205"
      ]
     },
     "execution_count": 10,
     "metadata": {},
     "output_type": "execute_result"
    }
   ],
   "source": [
    "pd.read_sql_query(\"\"\"SELECT Y.YEAR AS DECADE_START, (Y.YEAR+9) AS DECADE_END,COUNT(*) AS NO_OF_MOVIES FROM \n",
    "                    (SELECT DISTINCT YEAR FROM MOVIE) AS Y INNER JOIN MOVIE AS M \n",
    "                    ON M.YEAR >= Y.YEAR AND M.YEAR <= (Y.YEAR + 9)\n",
    "                    GROUP BY Y.YEAR\n",
    "                    ORDER BY NO_OF_MOVIES DESC LIMIT 1;\"\"\", con)\n",
    "# Source Code:- \n",
    "# https://stackoverflow.com/questions/51609285/sql-query-for-find-the-decade-with-the-largest-number-of-records"
   ]
  },
  {
   "cell_type": "markdown",
   "metadata": {},
   "source": [
    "Therefore, as seen above, the Time Period Between (2008-2017) is where the Largest Number of Films are Released -> Total of 1128 Films."
   ]
  },
  {
   "cell_type": "markdown",
   "metadata": {},
   "source": [
    "<b> <font color=\"black\"> Approach :- </font> </b>"
   ]
  },
  {
   "cell_type": "markdown",
   "metadata": {},
   "source": [
    "1. Here we can note that the Years in a Decade are not exclusive to a single Decade. Say, for the above example, the Years 1967,1968 etc are a part of >1 Decade. \n",
    "2. SELECT DISTINCT Years from the Movie Table. The Year Selected will be the Decade_Start and Decade_End will be the (Decade_Start+9).\n",
    "3. Now Join this result set with the Year from 'Movie' Table basis the condition that the M.Year is in the range specified for our Decade Start and End. Then Grouping is carried out and Movie Count is calculated for that particular Decade. "
   ]
  },
  {
   "cell_type": "markdown",
   "metadata": {},
   "source": [
    "# Question 8 :-"
   ]
  },
  {
   "cell_type": "markdown",
   "metadata": {},
   "source": [
    "<b> <font color=\"black\"> Find the actors that were Never Unemployed for more than 3 years at a stretch. (Assume that the actors remain unemployed between two consecutive movies). :- </font> </b>"
   ]
  },
  {
   "cell_type": "code",
   "execution_count": 11,
   "metadata": {},
   "outputs": [
    {
     "data": {
      "text/html": [
       "<div>\n",
       "<style scoped>\n",
       "    .dataframe tbody tr th:only-of-type {\n",
       "        vertical-align: middle;\n",
       "    }\n",
       "\n",
       "    .dataframe tbody tr th {\n",
       "        vertical-align: top;\n",
       "    }\n",
       "\n",
       "    .dataframe thead th {\n",
       "        text-align: right;\n",
       "    }\n",
       "</style>\n",
       "<table border=\"1\" class=\"dataframe\">\n",
       "  <thead>\n",
       "    <tr style=\"text-align: right;\">\n",
       "      <th></th>\n",
       "      <th>ACTOR_NAME</th>\n",
       "    </tr>\n",
       "  </thead>\n",
       "  <tbody>\n",
       "    <tr>\n",
       "      <th>0</th>\n",
       "      <td>'Ganja' Karuppu</td>\n",
       "    </tr>\n",
       "    <tr>\n",
       "      <th>1</th>\n",
       "      <td>A. Abdul Hameed</td>\n",
       "    </tr>\n",
       "    <tr>\n",
       "      <th>2</th>\n",
       "      <td>A.K. Agnihotri</td>\n",
       "    </tr>\n",
       "    <tr>\n",
       "      <th>3</th>\n",
       "      <td>A.K. Hangal</td>\n",
       "    </tr>\n",
       "    <tr>\n",
       "      <th>4</th>\n",
       "      <td>A.R. Manikandan</td>\n",
       "    </tr>\n",
       "    <tr>\n",
       "      <th>5</th>\n",
       "      <td>A.R. Murugadoss</td>\n",
       "    </tr>\n",
       "    <tr>\n",
       "      <th>6</th>\n",
       "      <td>A.R. Rama</td>\n",
       "    </tr>\n",
       "    <tr>\n",
       "      <th>7</th>\n",
       "      <td>A.V.S. Subramanyam</td>\n",
       "    </tr>\n",
       "    <tr>\n",
       "      <th>8</th>\n",
       "      <td>Aachal Munjal</td>\n",
       "    </tr>\n",
       "    <tr>\n",
       "      <th>9</th>\n",
       "      <td>Aachi Manorama</td>\n",
       "    </tr>\n",
       "  </tbody>\n",
       "</table>\n",
       "</div>"
      ],
      "text/plain": [
       "           ACTOR_NAME\n",
       "0     'Ganja' Karuppu\n",
       "1     A. Abdul Hameed\n",
       "2      A.K. Agnihotri\n",
       "3         A.K. Hangal\n",
       "4     A.R. Manikandan\n",
       "5     A.R. Murugadoss\n",
       "6           A.R. Rama\n",
       "7  A.V.S. Subramanyam\n",
       "8       Aachal Munjal\n",
       "9      Aachi Manorama"
      ]
     },
     "execution_count": 11,
     "metadata": {},
     "output_type": "execute_result"
    }
   ],
   "source": [
    "pd.read_sql_query(\"\"\"SELECT DISTINCT NAME AS ACTOR_NAME FROM PERSON AS P WHERE TRIM(P.PID) IN \n",
    "                    (SELECT DISTINCT A.PID FROM\n",
    "                    ((SELECT C1.PID AS PID,M1.MID AS MID, CAST(YEAR AS INT) AS YEAR\n",
    "                    FROM MOVIE AS M1 INNER JOIN M_CAST AS C1 ON M1.MID=C1.MID) AS A\n",
    "                    INNER JOIN\n",
    "                    (SELECT C2.PID AS PID,CAST(YEAR AS INT) AS NEXT_YEAR FROM MOVIE AS M2\n",
    "                    INNER JOIN M_CAST AS C2 ON M2.MID=C2.MID) AS B\n",
    "                    ON A.PID=B.PID)\n",
    "                    WHERE NEXT_YEAR > YEAR AND (NEXT_YEAR-YEAR)<=3\n",
    "                    ORDER BY YEAR,NEXT_YEAR)\n",
    "                    ORDER BY NAME\"\"\",con).head(10)"
   ]
  },
  {
   "cell_type": "markdown",
   "metadata": {},
   "source": [
    "Therefore there are a total of 5464 Actors who were Never Unemployed for More than 3 Years at a Stretch."
   ]
  },
  {
   "cell_type": "markdown",
   "metadata": {},
   "source": [
    "<b> <font color=\"black\"> Approach :- </font> </b>"
   ]
  },
  {
   "cell_type": "markdown",
   "metadata": {},
   "source": [
    "1. First the Movie Table is joined with the M_Cast Table to obtain the PID and MID. \n",
    "2. Now this is repeated because we want to obtain the mapping of all the Years where a particular Person has acted in Final Join is basis the PID for both the intermediate Tables obtained.\n",
    "3. Filtering is carried out so that the Next_Year Column is always larger than the current year and difference is less than 3 Years."
   ]
  },
  {
   "cell_type": "markdown",
   "metadata": {},
   "source": [
    "# Question 9 :-"
   ]
  },
  {
   "cell_type": "markdown",
   "metadata": {},
   "source": [
    "<b> <font color=\"black\"> Find all the actors that made more movies with Yash Chopra than any other director :- </font> </b>"
   ]
  },
  {
   "cell_type": "code",
   "execution_count": 12,
   "metadata": {},
   "outputs": [
    {
     "data": {
      "text/html": [
       "<div>\n",
       "<style scoped>\n",
       "    .dataframe tbody tr th:only-of-type {\n",
       "        vertical-align: middle;\n",
       "    }\n",
       "\n",
       "    .dataframe tbody tr th {\n",
       "        vertical-align: top;\n",
       "    }\n",
       "\n",
       "    .dataframe thead th {\n",
       "        text-align: right;\n",
       "    }\n",
       "</style>\n",
       "<table border=\"1\" class=\"dataframe\">\n",
       "  <thead>\n",
       "    <tr style=\"text-align: right;\">\n",
       "      <th></th>\n",
       "      <th>ACTORS</th>\n",
       "    </tr>\n",
       "  </thead>\n",
       "  <tbody>\n",
       "    <tr>\n",
       "      <th>0</th>\n",
       "      <td>Vikas Anand</td>\n",
       "    </tr>\n",
       "    <tr>\n",
       "      <th>1</th>\n",
       "      <td>Anupam Kher</td>\n",
       "    </tr>\n",
       "    <tr>\n",
       "      <th>2</th>\n",
       "      <td>Jagdish Raj</td>\n",
       "    </tr>\n",
       "    <tr>\n",
       "      <th>3</th>\n",
       "      <td>Amitabh Bachchan</td>\n",
       "    </tr>\n",
       "    <tr>\n",
       "      <th>4</th>\n",
       "      <td>Madan Puri</td>\n",
       "    </tr>\n",
       "    <tr>\n",
       "      <th>5</th>\n",
       "      <td>Iftekhar</td>\n",
       "    </tr>\n",
       "    <tr>\n",
       "      <th>6</th>\n",
       "      <td>Manmohan Krishna</td>\n",
       "    </tr>\n",
       "    <tr>\n",
       "      <th>7</th>\n",
       "      <td>Shashi Kapoor</td>\n",
       "    </tr>\n",
       "    <tr>\n",
       "      <th>8</th>\n",
       "      <td>Hema Malini</td>\n",
       "    </tr>\n",
       "    <tr>\n",
       "      <th>9</th>\n",
       "      <td>Rakhee Gulzar</td>\n",
       "    </tr>\n",
       "  </tbody>\n",
       "</table>\n",
       "</div>"
      ],
      "text/plain": [
       "             ACTORS\n",
       "0       Vikas Anand\n",
       "1       Anupam Kher\n",
       "2       Jagdish Raj\n",
       "3  Amitabh Bachchan\n",
       "4        Madan Puri\n",
       "5          Iftekhar\n",
       "6  Manmohan Krishna\n",
       "7     Shashi Kapoor\n",
       "8       Hema Malini\n",
       "9     Rakhee Gulzar"
      ]
     },
     "execution_count": 12,
     "metadata": {},
     "output_type": "execute_result"
    }
   ],
   "source": [
    "pd.read_sql_query(\"\"\"SELECT DISTINCT E.ACTOR_NAME AS ACTORS FROM \n",
    "                    (SELECT DISTINCT ACTOR_ID,ACTOR_NAME,DIRECTOR_NAME,\n",
    "                    COUNT(DISTINCT MID) AS NO_MOVIES_TOTAL FROM\n",
    "                    (SELECT MID,TITLE,YEAR,ACTOR_ID,ACTOR_NAME,DIRECTOR_ID,NAME AS DIRECTOR_NAME FROM\n",
    "                    (SELECT MID,TITLE,YEAR,ACTOR_ID,NAME AS ACTOR_NAME,DIRECTOR_ID FROM\n",
    "                     (SELECT A.MID,TITLE,YEAR,A.PID AS ACTOR_ID,MD.PID AS DIRECTOR_ID FROM\n",
    "                    (SELECT M.MID,TITLE,YEAR,PID FROM MOVIE AS M INNER JOIN M_CAST AS MC\n",
    "                     ON M.MID=MC.MID) AS A\n",
    "                     INNER JOIN M_DIRECTOR AS MD ON A.MID = MD.MID) AS B\n",
    "                     INNER JOIN PERSON AS P ON B.ACTOR_ID = P.PID) AS C\n",
    "                     INNER JOIN PERSON AS P ON C.DIRECTOR_ID = P.PID) AS D\n",
    "                     GROUP BY ACTOR_ID,ACTOR_NAME,DIRECTOR_NAME\n",
    "                     ORDER BY NO_MOVIES_TOTAL DESC) AS E\n",
    "                     LEFT JOIN \n",
    "                     ((SELECT DISTINCT ACTOR_ID,ACTOR_NAME,\n",
    "                                        DIRECTOR_NAME,\n",
    "                                        COUNT(DISTINCT MID) AS NO_MOVIES_YASH \n",
    "                                        FROM \n",
    "                     (SELECT MID,TITLE,YEAR,ACTOR_ID,ACTOR_NAME,DIRECTOR_ID,NAME AS DIRECTOR_NAME FROM \n",
    "                    (SELECT M.MID,TITLE,YEAR,C.PID AS ACTOR_ID,NAME AS ACTOR_NAME,D.PID AS DIRECTOR_ID \n",
    "                        FROM MOVIE AS M INNER JOIN M_CAST AS C\n",
    "                        ON M.MID=C.MID INNER JOIN M_DIRECTOR AS D ON M.MID=D.MID\n",
    "                        INNER JOIN PERSON AS P ON P.PID=C.PID) AS Q \n",
    "                        INNER JOIN PERSON AS P ON P.PID = Q.DIRECTOR_ID )\n",
    "                        WHERE DIRECTOR_NAME LIKE '%YASH%'\n",
    "                                        GROUP BY ACTOR_ID,ACTOR_NAME,DIRECTOR_NAME\n",
    "                                        ORDER BY NO_MOVIES_YASH DESC)) AS Y\n",
    "                     ON E.ACTOR_ID = Y.ACTOR_ID\n",
    "                     WHERE NO_MOVIES_YASH > NO_MOVIES_TOTAL\n",
    "                     \"\"\",con).head(10)"
   ]
  },
  {
   "cell_type": "markdown",
   "metadata": {},
   "source": [
    "Therefore we obtain a Total of 75 Actors who have Worked the Most with Yash Chopra as Compared to any other Director."
   ]
  },
  {
   "cell_type": "markdown",
   "metadata": {},
   "source": [
    "<b> <font color=\"black\"> Approach :- </font> </b>"
   ]
  },
  {
   "cell_type": "markdown",
   "metadata": {},
   "source": [
    "1. Again, first we obtain all the Cast that Acted in a Particular Movie. In order to do so we Join the\n",
    "   MOVIE Table with M_CAST Table basis the MID Column. (T1)\n",
    "2. Now, the PID obtained in the Table T1 is basically obtained from the M_CAST\n",
    "   Table and hence corresponds to the ACTOR_ID. Now basis the MID in the ALL_MOVIE_CAST\n",
    "   Table we can join the M_DIRECTOR Table so as to obtain the DIRECTOR_ID for the\n",
    "   Corresponding Movie. (T2)\n",
    "3. Now we can Join the T2 Table with the PERSON Table so as to obtain the\n",
    "   Corresponding Actor Name. \n",
    "4. Similarly, from the same PERSON Table and joining basis the PID and the DIRECTOR_ID we\n",
    "   can obtain the Director Name as well. \n",
    "5. Now our Task is to obtain for each actor the number of Movies that he has Worked with Various\n",
    "   Directors, and we obtain the Count of these Movies, which is stored in the column\n",
    "   'NO_MOVIES_TOTAL'\n",
    "6. Similarly, for each Actor we also calculate the Number of Movies that he has worked with Yash\n",
    "   Chopra and Count this Number as No_Movies_Yash in the Table T3. (Subquery Q)\n",
    "7. Now we can Join the 2 Tables.  Note that it is not\n",
    "   necessary that every Actor in the first subquery Table has worked in a Movie with Yash\n",
    "   Chopra. Therefore we carry out a Left Join. "
   ]
  },
  {
   "cell_type": "markdown",
   "metadata": {},
   "source": [
    "# Question 10 :-"
   ]
  },
  {
   "cell_type": "markdown",
   "metadata": {},
   "source": [
    "<b> <font color=\"black\"> The Shahrukh number of an actor is the length of the shortest path between the actor and Shahrukh Khan in the \"co-acting\" graph. That is, Shahrukh Khan has Shahrukh number 0; all actors who acted in the same film as Shahrukh have Shahrukh number 1; all actors who acted in the same film as some actor with Shahrukh number 1 have Shahrukh number 2, etc. Return all actors whose Shahrukh number is 2 :- </font> </b>"
   ]
  },
  {
   "cell_type": "code",
   "execution_count": 13,
   "metadata": {},
   "outputs": [
    {
     "data": {
      "text/html": [
       "<div>\n",
       "<style scoped>\n",
       "    .dataframe tbody tr th:only-of-type {\n",
       "        vertical-align: middle;\n",
       "    }\n",
       "\n",
       "    .dataframe tbody tr th {\n",
       "        vertical-align: top;\n",
       "    }\n",
       "\n",
       "    .dataframe thead th {\n",
       "        text-align: right;\n",
       "    }\n",
       "</style>\n",
       "<table border=\"1\" class=\"dataframe\">\n",
       "  <thead>\n",
       "    <tr style=\"text-align: right;\">\n",
       "      <th></th>\n",
       "      <th>ACTOR_NAME</th>\n",
       "    </tr>\n",
       "  </thead>\n",
       "  <tbody>\n",
       "    <tr>\n",
       "      <th>0</th>\n",
       "      <td>Freida Pinto</td>\n",
       "    </tr>\n",
       "    <tr>\n",
       "      <th>1</th>\n",
       "      <td>Rohan Chand</td>\n",
       "    </tr>\n",
       "    <tr>\n",
       "      <th>2</th>\n",
       "      <td>Damian Young</td>\n",
       "    </tr>\n",
       "    <tr>\n",
       "      <th>3</th>\n",
       "      <td>Waris Ahluwalia</td>\n",
       "    </tr>\n",
       "    <tr>\n",
       "      <th>4</th>\n",
       "      <td>Caroline Christl Long</td>\n",
       "    </tr>\n",
       "    <tr>\n",
       "      <th>5</th>\n",
       "      <td>Rajeev Pahuja</td>\n",
       "    </tr>\n",
       "    <tr>\n",
       "      <th>6</th>\n",
       "      <td>Michelle Santiago</td>\n",
       "    </tr>\n",
       "    <tr>\n",
       "      <th>7</th>\n",
       "      <td>Alicia Vikander</td>\n",
       "    </tr>\n",
       "    <tr>\n",
       "      <th>8</th>\n",
       "      <td>Dominic West</td>\n",
       "    </tr>\n",
       "    <tr>\n",
       "      <th>9</th>\n",
       "      <td>Walton Goggins</td>\n",
       "    </tr>\n",
       "  </tbody>\n",
       "</table>\n",
       "</div>"
      ],
      "text/plain": [
       "              ACTOR_NAME\n",
       "0           Freida Pinto\n",
       "1            Rohan Chand\n",
       "2           Damian Young\n",
       "3        Waris Ahluwalia\n",
       "4  Caroline Christl Long\n",
       "5          Rajeev Pahuja\n",
       "6      Michelle Santiago\n",
       "7        Alicia Vikander\n",
       "8           Dominic West\n",
       "9         Walton Goggins"
      ]
     },
     "execution_count": 13,
     "metadata": {},
     "output_type": "execute_result"
    }
   ],
   "source": [
    "pd.read_sql_query(\"\"\"SELECT DISTINCT NAME AS ACTOR_NAME FROM PERSON WHERE PID IN\n",
    "                    (SELECT PID FROM M_CAST WHERE MID IN\n",
    "                    (SELECT MID FROM M_CAST WHERE PID IN\n",
    "                    (SELECT PID FROM PERSON WHERE PID IN \n",
    "                    (SELECT PID FROM M_CAST WHERE MID IN\n",
    "                    (SELECT MID FROM M_CAST WHERE PID IN \n",
    "                    (SELECT PID FROM PERSON WHERE NAME LIKE '%SHAH_RUKH%'))))))\n",
    "                    AND NAME NOT LIKE '%SHAH_RUKH%' \n",
    "                    AND PID NOT IN (SELECT PID FROM M_CAST WHERE MID IN \n",
    "                                    (SELECT MID FROM M_CAST WHERE PID IN \n",
    "                                    (SELECT PID FROM PERSON WHERE NAME LIKE '%SHAH_RUKH%')))\"\"\",con).head(10)"
   ]
  },
  {
   "cell_type": "markdown",
   "metadata": {},
   "source": [
    "We see that there are a total of 24308 Actors who have Not Worked Directly, but have worked with a Costar of Shah Rukh Khan. "
   ]
  },
  {
   "cell_type": "markdown",
   "metadata": {},
   "source": [
    "<b> <font color=\"black\"> Approach :- </font> </b>"
   ]
  },
  {
   "cell_type": "markdown",
   "metadata": {},
   "source": [
    "1. First we find Shah Rukh Khan's PID and obtain all the Movies that Shah Rukh Khan has starred in. \n",
    "2. After this, we find the Cast ie. PIDs of all the Movies that Shah Rukh Khan has starred in.\n",
    "3. Now we find movies of all of these Co-Actors and their Corresponding Cast :- Actors who have not Worked Directly, but have only worked with a Costar of Shah Rukh Khan."
   ]
  }
 ],
 "metadata": {
  "kernelspec": {
   "display_name": "Python 3",
   "language": "python",
   "name": "python3"
  },
  "language_info": {
   "codemirror_mode": {
    "name": "ipython",
    "version": 3
   },
   "file_extension": ".py",
   "mimetype": "text/x-python",
   "name": "python",
   "nbconvert_exporter": "python",
   "pygments_lexer": "ipython3",
   "version": "3.7.1"
  }
 },
 "nbformat": 4,
 "nbformat_minor": 2
}
